{
  "nbformat": 4,
  "nbformat_minor": 0,
  "metadata": {
    "colab": {
      "provenance": [],
      "authorship_tag": "ABX9TyO79QKpLI7L+vWnmeYKBEmA",
      "include_colab_link": true
    },
    "kernelspec": {
      "name": "python3",
      "display_name": "Python 3"
    },
    "language_info": {
      "name": "python"
    }
  },
  "cells": [
    {
      "cell_type": "markdown",
      "metadata": {
        "id": "view-in-github",
        "colab_type": "text"
      },
      "source": [
        "<a href=\"https://colab.research.google.com/github/SusanaSernaJaramillo/Business-Intellingene/blob/main/Reto_2.ipynb\" target=\"_parent\"><img src=\"https://colab.research.google.com/assets/colab-badge.svg\" alt=\"Open In Colab\"/></a>"
      ]
    },
    {
      "cell_type": "markdown",
      "source": [
        "Se cargan las librerias necesarias:"
      ],
      "metadata": {
        "id": "b7j1tb6BrfK1"
      }
    },
    {
      "cell_type": "code",
      "execution_count": null,
      "metadata": {
        "id": "WMM0z6pArTx3"
      },
      "outputs": [],
      "source": [
        "#Liberias cientificas\n",
        "import pandas as pd\n",
        "import numpy as np\n",
        "\n",
        "#Librerias del arbol\n",
        "from sklearn.tree import DecisionTreeClassifier\n",
        "from sklearn.metrics import confusion_matrix"
      ]
    },
    {
      "cell_type": "code",
      "source": [
        "from google.colab import drive\n",
        "drive.mount('/content/drive')"
      ],
      "metadata": {
        "colab": {
          "base_uri": "https://localhost:8080/"
        },
        "id": "qU8xakoOrn8s",
        "outputId": "803bd8b8-0744-4641-c393-c3e607a4d7c2"
      },
      "execution_count": null,
      "outputs": [
        {
          "output_type": "stream",
          "name": "stdout",
          "text": [
            "Drive already mounted at /content/drive; to attempt to forcibly remount, call drive.mount(\"/content/drive\", force_remount=True).\n"
          ]
        }
      ]
    },
    {
      "cell_type": "markdown",
      "source": [
        "Se carga la base de datos y se obtiene información de los datos."
      ],
      "metadata": {
        "id": "2vfenpbSsQtd"
      }
    },
    {
      "cell_type": "code",
      "source": [
        "nxl='/content/drive/MyDrive/Analítica de negocios Notebooks/Analitica Base de datos/2. CollegeAdmisions_Int_M.xlsx'\n",
        "XDB=pd.read_excel(nxl,sheet_name=0)"
      ],
      "metadata": {
        "id": "GMSn7_MNrsPa"
      },
      "execution_count": null,
      "outputs": []
    },
    {
      "cell_type": "code",
      "source": [
        "#Mostrar lineas\n",
        "XDB.head(100)"
      ],
      "metadata": {
        "colab": {
          "base_uri": "https://localhost:8080/",
          "height": 424
        },
        "id": "qDG6RKCbr-07",
        "outputId": "95430c4a-dec2-4582-c742-9bac4584ae3f"
      },
      "execution_count": null,
      "outputs": [
        {
          "output_type": "execute_result",
          "data": {
            "text/plain": [
              "    Applicant  Edu_Parent1  Edu_Parent2 Gender  White  Asian  HSGPA  SAT/ACT  \\\n",
              "0           1            4            4      M      0      1   4.08     1460   \n",
              "1           2            3            3      F      0      0   3.59     1180   \n",
              "2           3            7            7      M      1      0   4.25     1340   \n",
              "3           4            6            6      M      0      1   3.00     1190   \n",
              "4           5            6            7      F      1      0   3.90     1290   \n",
              "..        ...          ...          ...    ...    ...    ...    ...      ...   \n",
              "95         96            6            5      M      1      0   2.95     1260   \n",
              "96         97            7            6      F      1      0   3.95     1250   \n",
              "97         98            6            6      F      1      0   3.71     1190   \n",
              "98         99            5            7      M      1      0   3.82     1240   \n",
              "99        100            6            6      F      0      0   4.23     1340   \n",
              "\n",
              "                 College Admitted Enrolled  College_GPA  \n",
              "0   Business & Economics      Yes       No          NaN  \n",
              "1         Math & Science       No       No          NaN  \n",
              "2         Arts & Letters      Yes       No          NaN  \n",
              "3   Business & Economics       No       No          NaN  \n",
              "4   Business & Economics       No       No          NaN  \n",
              "..                   ...      ...      ...          ...  \n",
              "95  Business & Economics       No       No          NaN  \n",
              "96  Business & Economics      Yes       No          NaN  \n",
              "97        Math & Science       No       No          NaN  \n",
              "98        Math & Science       No       No          NaN  \n",
              "99        Math & Science      Yes       No          NaN  \n",
              "\n",
              "[100 rows x 12 columns]"
            ],
            "text/html": [
              "\n",
              "  <div id=\"df-e3494b44-5b8f-44ae-8fb0-f48d55bc84bc\" class=\"colab-df-container\">\n",
              "    <div>\n",
              "<style scoped>\n",
              "    .dataframe tbody tr th:only-of-type {\n",
              "        vertical-align: middle;\n",
              "    }\n",
              "\n",
              "    .dataframe tbody tr th {\n",
              "        vertical-align: top;\n",
              "    }\n",
              "\n",
              "    .dataframe thead th {\n",
              "        text-align: right;\n",
              "    }\n",
              "</style>\n",
              "<table border=\"1\" class=\"dataframe\">\n",
              "  <thead>\n",
              "    <tr style=\"text-align: right;\">\n",
              "      <th></th>\n",
              "      <th>Applicant</th>\n",
              "      <th>Edu_Parent1</th>\n",
              "      <th>Edu_Parent2</th>\n",
              "      <th>Gender</th>\n",
              "      <th>White</th>\n",
              "      <th>Asian</th>\n",
              "      <th>HSGPA</th>\n",
              "      <th>SAT/ACT</th>\n",
              "      <th>College</th>\n",
              "      <th>Admitted</th>\n",
              "      <th>Enrolled</th>\n",
              "      <th>College_GPA</th>\n",
              "    </tr>\n",
              "  </thead>\n",
              "  <tbody>\n",
              "    <tr>\n",
              "      <th>0</th>\n",
              "      <td>1</td>\n",
              "      <td>4</td>\n",
              "      <td>4</td>\n",
              "      <td>M</td>\n",
              "      <td>0</td>\n",
              "      <td>1</td>\n",
              "      <td>4.08</td>\n",
              "      <td>1460</td>\n",
              "      <td>Business &amp; Economics</td>\n",
              "      <td>Yes</td>\n",
              "      <td>No</td>\n",
              "      <td>NaN</td>\n",
              "    </tr>\n",
              "    <tr>\n",
              "      <th>1</th>\n",
              "      <td>2</td>\n",
              "      <td>3</td>\n",
              "      <td>3</td>\n",
              "      <td>F</td>\n",
              "      <td>0</td>\n",
              "      <td>0</td>\n",
              "      <td>3.59</td>\n",
              "      <td>1180</td>\n",
              "      <td>Math &amp; Science</td>\n",
              "      <td>No</td>\n",
              "      <td>No</td>\n",
              "      <td>NaN</td>\n",
              "    </tr>\n",
              "    <tr>\n",
              "      <th>2</th>\n",
              "      <td>3</td>\n",
              "      <td>7</td>\n",
              "      <td>7</td>\n",
              "      <td>M</td>\n",
              "      <td>1</td>\n",
              "      <td>0</td>\n",
              "      <td>4.25</td>\n",
              "      <td>1340</td>\n",
              "      <td>Arts &amp; Letters</td>\n",
              "      <td>Yes</td>\n",
              "      <td>No</td>\n",
              "      <td>NaN</td>\n",
              "    </tr>\n",
              "    <tr>\n",
              "      <th>3</th>\n",
              "      <td>4</td>\n",
              "      <td>6</td>\n",
              "      <td>6</td>\n",
              "      <td>M</td>\n",
              "      <td>0</td>\n",
              "      <td>1</td>\n",
              "      <td>3.00</td>\n",
              "      <td>1190</td>\n",
              "      <td>Business &amp; Economics</td>\n",
              "      <td>No</td>\n",
              "      <td>No</td>\n",
              "      <td>NaN</td>\n",
              "    </tr>\n",
              "    <tr>\n",
              "      <th>4</th>\n",
              "      <td>5</td>\n",
              "      <td>6</td>\n",
              "      <td>7</td>\n",
              "      <td>F</td>\n",
              "      <td>1</td>\n",
              "      <td>0</td>\n",
              "      <td>3.90</td>\n",
              "      <td>1290</td>\n",
              "      <td>Business &amp; Economics</td>\n",
              "      <td>No</td>\n",
              "      <td>No</td>\n",
              "      <td>NaN</td>\n",
              "    </tr>\n",
              "    <tr>\n",
              "      <th>...</th>\n",
              "      <td>...</td>\n",
              "      <td>...</td>\n",
              "      <td>...</td>\n",
              "      <td>...</td>\n",
              "      <td>...</td>\n",
              "      <td>...</td>\n",
              "      <td>...</td>\n",
              "      <td>...</td>\n",
              "      <td>...</td>\n",
              "      <td>...</td>\n",
              "      <td>...</td>\n",
              "      <td>...</td>\n",
              "    </tr>\n",
              "    <tr>\n",
              "      <th>95</th>\n",
              "      <td>96</td>\n",
              "      <td>6</td>\n",
              "      <td>5</td>\n",
              "      <td>M</td>\n",
              "      <td>1</td>\n",
              "      <td>0</td>\n",
              "      <td>2.95</td>\n",
              "      <td>1260</td>\n",
              "      <td>Business &amp; Economics</td>\n",
              "      <td>No</td>\n",
              "      <td>No</td>\n",
              "      <td>NaN</td>\n",
              "    </tr>\n",
              "    <tr>\n",
              "      <th>96</th>\n",
              "      <td>97</td>\n",
              "      <td>7</td>\n",
              "      <td>6</td>\n",
              "      <td>F</td>\n",
              "      <td>1</td>\n",
              "      <td>0</td>\n",
              "      <td>3.95</td>\n",
              "      <td>1250</td>\n",
              "      <td>Business &amp; Economics</td>\n",
              "      <td>Yes</td>\n",
              "      <td>No</td>\n",
              "      <td>NaN</td>\n",
              "    </tr>\n",
              "    <tr>\n",
              "      <th>97</th>\n",
              "      <td>98</td>\n",
              "      <td>6</td>\n",
              "      <td>6</td>\n",
              "      <td>F</td>\n",
              "      <td>1</td>\n",
              "      <td>0</td>\n",
              "      <td>3.71</td>\n",
              "      <td>1190</td>\n",
              "      <td>Math &amp; Science</td>\n",
              "      <td>No</td>\n",
              "      <td>No</td>\n",
              "      <td>NaN</td>\n",
              "    </tr>\n",
              "    <tr>\n",
              "      <th>98</th>\n",
              "      <td>99</td>\n",
              "      <td>5</td>\n",
              "      <td>7</td>\n",
              "      <td>M</td>\n",
              "      <td>1</td>\n",
              "      <td>0</td>\n",
              "      <td>3.82</td>\n",
              "      <td>1240</td>\n",
              "      <td>Math &amp; Science</td>\n",
              "      <td>No</td>\n",
              "      <td>No</td>\n",
              "      <td>NaN</td>\n",
              "    </tr>\n",
              "    <tr>\n",
              "      <th>99</th>\n",
              "      <td>100</td>\n",
              "      <td>6</td>\n",
              "      <td>6</td>\n",
              "      <td>F</td>\n",
              "      <td>0</td>\n",
              "      <td>0</td>\n",
              "      <td>4.23</td>\n",
              "      <td>1340</td>\n",
              "      <td>Math &amp; Science</td>\n",
              "      <td>Yes</td>\n",
              "      <td>No</td>\n",
              "      <td>NaN</td>\n",
              "    </tr>\n",
              "  </tbody>\n",
              "</table>\n",
              "<p>100 rows × 12 columns</p>\n",
              "</div>\n",
              "    <div class=\"colab-df-buttons\">\n",
              "\n",
              "  <div class=\"colab-df-container\">\n",
              "    <button class=\"colab-df-convert\" onclick=\"convertToInteractive('df-e3494b44-5b8f-44ae-8fb0-f48d55bc84bc')\"\n",
              "            title=\"Convert this dataframe to an interactive table.\"\n",
              "            style=\"display:none;\">\n",
              "\n",
              "  <svg xmlns=\"http://www.w3.org/2000/svg\" height=\"24px\" viewBox=\"0 -960 960 960\">\n",
              "    <path d=\"M120-120v-720h720v720H120Zm60-500h600v-160H180v160Zm220 220h160v-160H400v160Zm0 220h160v-160H400v160ZM180-400h160v-160H180v160Zm440 0h160v-160H620v160ZM180-180h160v-160H180v160Zm440 0h160v-160H620v160Z\"/>\n",
              "  </svg>\n",
              "    </button>\n",
              "\n",
              "  <style>\n",
              "    .colab-df-container {\n",
              "      display:flex;\n",
              "      gap: 12px;\n",
              "    }\n",
              "\n",
              "    .colab-df-convert {\n",
              "      background-color: #E8F0FE;\n",
              "      border: none;\n",
              "      border-radius: 50%;\n",
              "      cursor: pointer;\n",
              "      display: none;\n",
              "      fill: #1967D2;\n",
              "      height: 32px;\n",
              "      padding: 0 0 0 0;\n",
              "      width: 32px;\n",
              "    }\n",
              "\n",
              "    .colab-df-convert:hover {\n",
              "      background-color: #E2EBFA;\n",
              "      box-shadow: 0px 1px 2px rgba(60, 64, 67, 0.3), 0px 1px 3px 1px rgba(60, 64, 67, 0.15);\n",
              "      fill: #174EA6;\n",
              "    }\n",
              "\n",
              "    .colab-df-buttons div {\n",
              "      margin-bottom: 4px;\n",
              "    }\n",
              "\n",
              "    [theme=dark] .colab-df-convert {\n",
              "      background-color: #3B4455;\n",
              "      fill: #D2E3FC;\n",
              "    }\n",
              "\n",
              "    [theme=dark] .colab-df-convert:hover {\n",
              "      background-color: #434B5C;\n",
              "      box-shadow: 0px 1px 3px 1px rgba(0, 0, 0, 0.15);\n",
              "      filter: drop-shadow(0px 1px 2px rgba(0, 0, 0, 0.3));\n",
              "      fill: #FFFFFF;\n",
              "    }\n",
              "  </style>\n",
              "\n",
              "    <script>\n",
              "      const buttonEl =\n",
              "        document.querySelector('#df-e3494b44-5b8f-44ae-8fb0-f48d55bc84bc button.colab-df-convert');\n",
              "      buttonEl.style.display =\n",
              "        google.colab.kernel.accessAllowed ? 'block' : 'none';\n",
              "\n",
              "      async function convertToInteractive(key) {\n",
              "        const element = document.querySelector('#df-e3494b44-5b8f-44ae-8fb0-f48d55bc84bc');\n",
              "        const dataTable =\n",
              "          await google.colab.kernel.invokeFunction('convertToInteractive',\n",
              "                                                    [key], {});\n",
              "        if (!dataTable) return;\n",
              "\n",
              "        const docLinkHtml = 'Like what you see? Visit the ' +\n",
              "          '<a target=\"_blank\" href=https://colab.research.google.com/notebooks/data_table.ipynb>data table notebook</a>'\n",
              "          + ' to learn more about interactive tables.';\n",
              "        element.innerHTML = '';\n",
              "        dataTable['output_type'] = 'display_data';\n",
              "        await google.colab.output.renderOutput(dataTable, element);\n",
              "        const docLink = document.createElement('div');\n",
              "        docLink.innerHTML = docLinkHtml;\n",
              "        element.appendChild(docLink);\n",
              "      }\n",
              "    </script>\n",
              "  </div>\n",
              "\n",
              "\n",
              "<div id=\"df-c7a52db1-bb83-4772-89e6-1c82b9db483f\">\n",
              "  <button class=\"colab-df-quickchart\" onclick=\"quickchart('df-c7a52db1-bb83-4772-89e6-1c82b9db483f')\"\n",
              "            title=\"Suggest charts\"\n",
              "            style=\"display:none;\">\n",
              "\n",
              "<svg xmlns=\"http://www.w3.org/2000/svg\" height=\"24px\"viewBox=\"0 0 24 24\"\n",
              "     width=\"24px\">\n",
              "    <g>\n",
              "        <path d=\"M19 3H5c-1.1 0-2 .9-2 2v14c0 1.1.9 2 2 2h14c1.1 0 2-.9 2-2V5c0-1.1-.9-2-2-2zM9 17H7v-7h2v7zm4 0h-2V7h2v10zm4 0h-2v-4h2v4z\"/>\n",
              "    </g>\n",
              "</svg>\n",
              "  </button>\n",
              "\n",
              "<style>\n",
              "  .colab-df-quickchart {\n",
              "      --bg-color: #E8F0FE;\n",
              "      --fill-color: #1967D2;\n",
              "      --hover-bg-color: #E2EBFA;\n",
              "      --hover-fill-color: #174EA6;\n",
              "      --disabled-fill-color: #AAA;\n",
              "      --disabled-bg-color: #DDD;\n",
              "  }\n",
              "\n",
              "  [theme=dark] .colab-df-quickchart {\n",
              "      --bg-color: #3B4455;\n",
              "      --fill-color: #D2E3FC;\n",
              "      --hover-bg-color: #434B5C;\n",
              "      --hover-fill-color: #FFFFFF;\n",
              "      --disabled-bg-color: #3B4455;\n",
              "      --disabled-fill-color: #666;\n",
              "  }\n",
              "\n",
              "  .colab-df-quickchart {\n",
              "    background-color: var(--bg-color);\n",
              "    border: none;\n",
              "    border-radius: 50%;\n",
              "    cursor: pointer;\n",
              "    display: none;\n",
              "    fill: var(--fill-color);\n",
              "    height: 32px;\n",
              "    padding: 0;\n",
              "    width: 32px;\n",
              "  }\n",
              "\n",
              "  .colab-df-quickchart:hover {\n",
              "    background-color: var(--hover-bg-color);\n",
              "    box-shadow: 0 1px 2px rgba(60, 64, 67, 0.3), 0 1px 3px 1px rgba(60, 64, 67, 0.15);\n",
              "    fill: var(--button-hover-fill-color);\n",
              "  }\n",
              "\n",
              "  .colab-df-quickchart-complete:disabled,\n",
              "  .colab-df-quickchart-complete:disabled:hover {\n",
              "    background-color: var(--disabled-bg-color);\n",
              "    fill: var(--disabled-fill-color);\n",
              "    box-shadow: none;\n",
              "  }\n",
              "\n",
              "  .colab-df-spinner {\n",
              "    border: 2px solid var(--fill-color);\n",
              "    border-color: transparent;\n",
              "    border-bottom-color: var(--fill-color);\n",
              "    animation:\n",
              "      spin 1s steps(1) infinite;\n",
              "  }\n",
              "\n",
              "  @keyframes spin {\n",
              "    0% {\n",
              "      border-color: transparent;\n",
              "      border-bottom-color: var(--fill-color);\n",
              "      border-left-color: var(--fill-color);\n",
              "    }\n",
              "    20% {\n",
              "      border-color: transparent;\n",
              "      border-left-color: var(--fill-color);\n",
              "      border-top-color: var(--fill-color);\n",
              "    }\n",
              "    30% {\n",
              "      border-color: transparent;\n",
              "      border-left-color: var(--fill-color);\n",
              "      border-top-color: var(--fill-color);\n",
              "      border-right-color: var(--fill-color);\n",
              "    }\n",
              "    40% {\n",
              "      border-color: transparent;\n",
              "      border-right-color: var(--fill-color);\n",
              "      border-top-color: var(--fill-color);\n",
              "    }\n",
              "    60% {\n",
              "      border-color: transparent;\n",
              "      border-right-color: var(--fill-color);\n",
              "    }\n",
              "    80% {\n",
              "      border-color: transparent;\n",
              "      border-right-color: var(--fill-color);\n",
              "      border-bottom-color: var(--fill-color);\n",
              "    }\n",
              "    90% {\n",
              "      border-color: transparent;\n",
              "      border-bottom-color: var(--fill-color);\n",
              "    }\n",
              "  }\n",
              "</style>\n",
              "\n",
              "  <script>\n",
              "    async function quickchart(key) {\n",
              "      const quickchartButtonEl =\n",
              "        document.querySelector('#' + key + ' button');\n",
              "      quickchartButtonEl.disabled = true;  // To prevent multiple clicks.\n",
              "      quickchartButtonEl.classList.add('colab-df-spinner');\n",
              "      try {\n",
              "        const charts = await google.colab.kernel.invokeFunction(\n",
              "            'suggestCharts', [key], {});\n",
              "      } catch (error) {\n",
              "        console.error('Error during call to suggestCharts:', error);\n",
              "      }\n",
              "      quickchartButtonEl.classList.remove('colab-df-spinner');\n",
              "      quickchartButtonEl.classList.add('colab-df-quickchart-complete');\n",
              "    }\n",
              "    (() => {\n",
              "      let quickchartButtonEl =\n",
              "        document.querySelector('#df-c7a52db1-bb83-4772-89e6-1c82b9db483f button');\n",
              "      quickchartButtonEl.style.display =\n",
              "        google.colab.kernel.accessAllowed ? 'block' : 'none';\n",
              "    })();\n",
              "  </script>\n",
              "</div>\n",
              "\n",
              "    </div>\n",
              "  </div>\n"
            ],
            "application/vnd.google.colaboratory.intrinsic+json": {
              "type": "dataframe",
              "variable_name": "XDB",
              "summary": "{\n  \"name\": \"XDB\",\n  \"rows\": 17339,\n  \"fields\": [\n    {\n      \"column\": \"Applicant\",\n      \"properties\": {\n        \"dtype\": \"number\",\n        \"std\": 5005,\n        \"min\": 1,\n        \"max\": 17339,\n        \"num_unique_values\": 17339,\n        \"samples\": [\n          9665,\n          1021,\n          15903\n        ],\n        \"semantic_type\": \"\",\n        \"description\": \"\"\n      }\n    },\n    {\n      \"column\": \"Edu_Parent1\",\n      \"properties\": {\n        \"dtype\": \"number\",\n        \"std\": 1,\n        \"min\": 1,\n        \"max\": 7,\n        \"num_unique_values\": 7,\n        \"samples\": [\n          4,\n          3,\n          5\n        ],\n        \"semantic_type\": \"\",\n        \"description\": \"\"\n      }\n    },\n    {\n      \"column\": \"Edu_Parent2\",\n      \"properties\": {\n        \"dtype\": \"number\",\n        \"std\": 1,\n        \"min\": 1,\n        \"max\": 7,\n        \"num_unique_values\": 7,\n        \"samples\": [\n          4,\n          3,\n          1\n        ],\n        \"semantic_type\": \"\",\n        \"description\": \"\"\n      }\n    },\n    {\n      \"column\": \"Gender\",\n      \"properties\": {\n        \"dtype\": \"category\",\n        \"num_unique_values\": 2,\n        \"samples\": [\n          \"F\",\n          \"M\"\n        ],\n        \"semantic_type\": \"\",\n        \"description\": \"\"\n      }\n    },\n    {\n      \"column\": \"White\",\n      \"properties\": {\n        \"dtype\": \"number\",\n        \"std\": 0,\n        \"min\": 0,\n        \"max\": 1,\n        \"num_unique_values\": 2,\n        \"samples\": [\n          1,\n          0\n        ],\n        \"semantic_type\": \"\",\n        \"description\": \"\"\n      }\n    },\n    {\n      \"column\": \"Asian\",\n      \"properties\": {\n        \"dtype\": \"number\",\n        \"std\": 0,\n        \"min\": 0,\n        \"max\": 1,\n        \"num_unique_values\": 2,\n        \"samples\": [\n          0,\n          1\n        ],\n        \"semantic_type\": \"\",\n        \"description\": \"\"\n      }\n    },\n    {\n      \"column\": \"HSGPA\",\n      \"properties\": {\n        \"dtype\": \"number\",\n        \"std\": 0.462520864391657,\n        \"min\": 0.0,\n        \"max\": 4.5,\n        \"num_unique_values\": 244,\n        \"samples\": [\n          4.06,\n          4.26\n        ],\n        \"semantic_type\": \"\",\n        \"description\": \"\"\n      }\n    },\n    {\n      \"column\": \"SAT/ACT\",\n      \"properties\": {\n        \"dtype\": \"number\",\n        \"std\": 172,\n        \"min\": 280,\n        \"max\": 1600,\n        \"num_unique_values\": 114,\n        \"samples\": [\n          770,\n          1290\n        ],\n        \"semantic_type\": \"\",\n        \"description\": \"\"\n      }\n    },\n    {\n      \"column\": \"College\",\n      \"properties\": {\n        \"dtype\": \"category\",\n        \"num_unique_values\": 4,\n        \"samples\": [\n          \"Math & Science\",\n          \"Math & ScienceMath & Science&\"\n        ],\n        \"semantic_type\": \"\",\n        \"description\": \"\"\n      }\n    },\n    {\n      \"column\": \"Admitted\",\n      \"properties\": {\n        \"dtype\": \"category\",\n        \"num_unique_values\": 2,\n        \"samples\": [\n          \"No\",\n          \"Yes\"\n        ],\n        \"semantic_type\": \"\",\n        \"description\": \"\"\n      }\n    },\n    {\n      \"column\": \"Enrolled\",\n      \"properties\": {\n        \"dtype\": \"category\",\n        \"num_unique_values\": 2,\n        \"samples\": [\n          \"Yes\",\n          \"No\"\n        ],\n        \"semantic_type\": \"\",\n        \"description\": \"\"\n      }\n    },\n    {\n      \"column\": \"College_GPA\",\n      \"properties\": {\n        \"dtype\": \"number\",\n        \"std\": 0.5135177801576729,\n        \"min\": 0.364,\n        \"max\": 4.0,\n        \"num_unique_values\": 1015,\n        \"samples\": [\n          3.963,\n          3.243\n        ],\n        \"semantic_type\": \"\",\n        \"description\": \"\"\n      }\n    }\n  ]\n}"
            }
          },
          "metadata": {},
          "execution_count": 22
        }
      ]
    },
    {
      "cell_type": "code",
      "source": [
        "total_datos = XDB.size\n",
        "print(f\"El número total de datos en el dataframe es: {total_datos}\")"
      ],
      "metadata": {
        "colab": {
          "base_uri": "https://localhost:8080/"
        },
        "id": "MU7oWqjmsJVa",
        "outputId": "e24ff1c2-0b6d-44b6-d409-883b4b7a3d27"
      },
      "execution_count": null,
      "outputs": [
        {
          "output_type": "stream",
          "name": "stdout",
          "text": [
            "El número total de datos en el dataframe es: 208068\n"
          ]
        }
      ]
    },
    {
      "cell_type": "markdown",
      "source": [
        "Se eliminan los datos atipicos y se seleccionan las variables que necesitamos."
      ],
      "metadata": {
        "id": "HN3ULSrwsYkR"
      }
    },
    {
      "cell_type": "code",
      "source": [
        "#Elimino Datos atipicos\n",
        "XDB=XDB.dropna()\n",
        "print('Número total de datos después de limpieza:', len(XDB))"
      ],
      "metadata": {
        "colab": {
          "base_uri": "https://localhost:8080/"
        },
        "id": "brig0t6AsX58",
        "outputId": "4f00f6e5-dcdd-4742-b76d-c430a811b7e6"
      },
      "execution_count": null,
      "outputs": [
        {
          "output_type": "stream",
          "name": "stdout",
          "text": [
            "Número total de datos después de limpieza: 1528\n"
          ]
        }
      ]
    },
    {
      "cell_type": "code",
      "source": [
        "XDB[\"Gender\"] = XDB[\"Gender\"].map({\"F\": 0, \"M\": 1})\n",
        "XDB[\"Admitted\"] = XDB[\"Admitted\"].map({\"No\": 0, \"Yes\": 1})\n",
        "\n",
        "# Seleccionar las variables\n",
        "XD = XDB[['Edu_Parent1', 'Edu_Parent2', 'Gender', 'White', 'Asian', 'HSGPA', 'SAT/ACT']]\n",
        "YD = XDB[['Admitted']]"
      ],
      "metadata": {
        "id": "h9FPg_BHssMB"
      },
      "execution_count": null,
      "outputs": []
    },
    {
      "cell_type": "markdown",
      "source": [
        "se proporcionará una síntesis de las variables escogidas para el análisis. Es esencial destacar que la base de datos cuenta con 1528 registros luego de la depuración y que los estudiantes serán evaluados según siete variables:\n",
        "\n",
        "- Edu_Parent1: Nivel educativo alcanzado por el primer padre o tutor.\n",
        "\n",
        "- Edu_Parent2: Nivel educativo alcanzado por el segundo padre o tutor.\n",
        "\n",
        "- Gender: Género del estudiante. El valor 0 representa femenino y el valor 1 masculino.\n",
        "\n",
        "- White: Señala si el estudiante se identifica como blanco. 0 corresponde a 'NO' y 1 a 'SÍ'.\n",
        "\n",
        "- Asian: Señala si el estudiante se identifica como asiático. 0 corresponde a 'NO' y 1 a 'SÍ'.\n",
        "\n",
        "- HSPGA: Promedio de calificaciones del estudiante en la secundaria.\n",
        "\n",
        "- SAT/ACT: Puntaje obtenido en los exámenes estandarizados SAT o ACT.\n",
        "\n",
        "Finalmente, la variable de salida será:\n",
        "\n",
        "- Admitted: Indica si el estudiante es admitido o no en la universidad."
      ],
      "metadata": {
        "id": "_0i8s2FVtcrj"
      }
    },
    {
      "cell_type": "markdown",
      "source": [
        "Se procede con la implementación del modelo"
      ],
      "metadata": {
        "id": "GhOKPjTDuLil"
      }
    },
    {
      "cell_type": "code",
      "source": [
        "mar=DecisionTreeClassifier(criterion='gini',max_depth=4) #El 4 por que son las variables que tengo.\n",
        "mar.fit(XD,YD)\n",
        "\n",
        "#Se procede con la grafica\n",
        "from sklearn.tree import export_graphviz #Me exporta a PNG, JPEG\n",
        "from pydotplus import graph_from_dot_data #Me crea la grafica\n",
        "\n",
        "ve= ['Edu_Parent1', 'Edu_Parent2', 'Gender', 'White', 'Asian', 'HSGPA', 'SAT/ACT']  #Nombres del Árbol\n",
        "dot_data=export_graphviz(mar,feature_names=ve)#creeme el arbol y pongale los nombres\n",
        "graph_from_dot_data(dot_data).write_png('2. ArbolDeDecisión_M.png')"
      ],
      "metadata": {
        "colab": {
          "base_uri": "https://localhost:8080/"
        },
        "id": "LPTJ-PgouJRw",
        "outputId": "6aaebd0d-bd1d-44fe-fe5e-98c64482ca51"
      },
      "execution_count": null,
      "outputs": [
        {
          "output_type": "execute_result",
          "data": {
            "text/plain": [
              "True"
            ]
          },
          "metadata": {},
          "execution_count": 26
        }
      ]
    },
    {
      "cell_type": "code",
      "source": [
        "num_nodos_puros = sum(mar.tree_.impurity == 0)\n",
        "print(f\"El número de nodos puros en el árbol es {num_nodos_puros}  (Gini = 0,0):\")"
      ],
      "metadata": {
        "colab": {
          "base_uri": "https://localhost:8080/"
        },
        "id": "YfSwH0-cx5wc",
        "outputId": "d9505645-ac9a-44ae-f783-558e493ba3ee"
      },
      "execution_count": null,
      "outputs": [
        {
          "output_type": "stream",
          "name": "stdout",
          "text": [
            "El número de nodos puros en el árbol es 7  (Gini = 0,0):\n"
          ]
        }
      ]
    },
    {
      "cell_type": "code",
      "source": [
        "num_admitidos = YD['Admitted'].sum()  # Sum the values in the 'Admitted' column\n",
        "print(f\"El número de estudiantes admitidos es {num_admitidos}\")"
      ],
      "metadata": {
        "colab": {
          "base_uri": "https://localhost:8080/"
        },
        "id": "lgS4iOQDx9Rn",
        "outputId": "fc42cc85-9efe-4322-f89f-d3c4f4fc9e85"
      },
      "execution_count": null,
      "outputs": [
        {
          "output_type": "stream",
          "name": "stdout",
          "text": [
            "El número de estudiantes admitidos es 1303\n"
          ]
        }
      ]
    },
    {
      "cell_type": "markdown",
      "source": [
        "Se procede con el pronóstico de la admisión para los estudiantes en la base de datos"
      ],
      "metadata": {
        "id": "7cQIuF9VvIaF"
      }
    },
    {
      "cell_type": "code",
      "source": [
        "XDB0=pd.read_excel(nxl,sheet_name=0)\n",
        "XDB0.head(100)\n",
        "#Vamos a clasificar los que estan en la hoja 1 con los solicinates de credito de la hoja 2\n",
        "#Se crea la base de datos a pronosticar\n",
        "XDB0[\"Gender\"] = XDB0[\"Gender\"].map({\"F\": 0, \"M\": 1})\n",
        "XD0=XDB0[['Edu_Parent1', 'Edu_Parent2', 'Gender', 'White', 'Asian', 'HSGPA', 'SAT/ACT']]\n",
        "YD0=XDB0[['Admitted']]\n",
        "filas = XDB0[(XDB0['Admitted'] == 'No') | (XDB0['Admitted'].isna())].index\n",
        "XD0=np.array(XD0)\n",
        "XD0=XD0[filas]\n",
        "#le calculamos la admisión a los estudiantes\n",
        "y_pred=mar.predict(XD0)\n",
        "print(y_pred)\n",
        "\n",
        "#se crea el informe en excel\n",
        "df=pd.DataFrame(np.column_stack((filas, XD0,y_pred)))\n",
        "#filas donde estan los estudiantes que no fueron admitidos, XD0 los datos de esas personas, y_pred la decisión\n",
        "df.columns=['Solicitante', 'Edu_Parent1', 'Edu_Parent2', 'Gender', 'White', 'Asian', 'HSGPA', 'SAT/ACT','Admitted']\n",
        "df.to_excel(\"Admisión_universidad.xlsx\")"
      ],
      "metadata": {
        "colab": {
          "base_uri": "https://localhost:8080/"
        },
        "id": "ZCOQImi_vIP8",
        "outputId": "0eabb958-5c35-4895-b2a7-087f62739ec3"
      },
      "execution_count": null,
      "outputs": [
        {
          "output_type": "stream",
          "name": "stderr",
          "text": [
            "/usr/local/lib/python3.11/dist-packages/sklearn/utils/validation.py:2739: UserWarning: X does not have valid feature names, but DecisionTreeClassifier was fitted with feature names\n",
            "  warnings.warn(\n"
          ]
        },
        {
          "output_type": "stream",
          "name": "stdout",
          "text": [
            "[1 1 1 ... 0 1 0]\n"
          ]
        }
      ]
    },
    {
      "cell_type": "markdown",
      "source": [
        "Evaluar el comportamiento del modelo"
      ],
      "metadata": {
        "id": "QvWzkDswvqeX"
      }
    },
    {
      "cell_type": "code",
      "source": [
        "ydp=mar.predict(XD) #pronóstico sobre la bd original\n",
        "cm=confusion_matrix(YD,ydp)\n",
        "print(\"La matriz de confusión es:\\n\",cm)\n",
        "VN=cm[0,0];FP=cm[0,1];FN=cm[1,0];VP=cm[1,1]\n",
        "\n",
        "\n",
        "#Métricas de desempeño\n",
        "EX=(VP+VN)/(VP+VN+FP+FN) #Exactitud\n",
        "print('La exactitud del modelo es:\\n',EX)\n",
        "\n",
        "TE=(FN+FP)/(VP+VN+FP+FN) #Tasa de error:\n",
        "print('La tasa de error del modelo es:\\n',TE)\n",
        "\n",
        "SE=VP/(VP+FN) #Sensibilidad\n",
        "print('La sensibilidad del modelo es:\\n',SE)\n",
        "\n",
        "SP=VN/(VN+FP) #Especificidad\n",
        "print('La especificidad del modelo es:\\n',SP)\n",
        "\n",
        "PR=VP/(VP+FP) #Precisión\n",
        "print('La precisión del modelo es:\\n',PR)\n",
        "\n",
        "PRNeng=VN/(VN+FN) #Precisión Negativa\n",
        "print('La precisión negativa del modelo es:\\n',PRNeng)"
      ],
      "metadata": {
        "colab": {
          "base_uri": "https://localhost:8080/"
        },
        "id": "8NwAZVPhvrC1",
        "outputId": "3169693c-737f-4189-d145-f10a79b3a62a"
      },
      "execution_count": null,
      "outputs": [
        {
          "output_type": "stream",
          "name": "stdout",
          "text": [
            "La matriz de confusión es:\n",
            " [[  20  205]\n",
            " [   2 1301]]\n",
            "La exactitud del modelo es:\n",
            " 0.8645287958115183\n",
            "La tasa de error del modelo es:\n",
            " 0.1354712041884817\n",
            "La sensibilidad del modelo es:\n",
            " 0.9984650805832693\n",
            "La especificidad del modelo es:\n",
            " 0.08888888888888889\n",
            "La precisión del modelo es:\n",
            " 0.8638778220451527\n",
            "La precisión negativa del modelo es:\n",
            " 0.9090909090909091\n"
          ]
        }
      ]
    },
    {
      "cell_type": "markdown",
      "source": [
        "#**Análisis de Resultados y del Modelo**\n",
        "\n",
        "La matriz de confusión revela una mayoría de verdaderos positivos (1302) y falsos positivos (200), con un total de 1528 datos tras la eliminación de valores atípicos. Se identificaron correctamente 1303 estudiantes admitidos y 225 no admitidos, lo que indica un sólido desempeño del modelo.\n",
        "\n",
        "La exactitud del 86.45% demuestra una alta capacidad para predecir correctamente la admisión o no admisión. Además, la sensibilidad del 99.84% destaca que casi todos los admitidos fueron correctamente identificados, y la precisión del 86.38% refuerza la fiabilidad del modelo en sus predicciones.\n",
        "\n",
        "Si bien la especificidad del 8.89% sugiere que algunos estudiantes no admitidos fueron clasificados erróneamente, el modelo sigue mostrando un gran rendimiento general. Con ajustes en los umbrales de decisión o el balance de clases, podría mejorar aún más sin afectar su capacidad para predecir de manera efectiva las admisiones.\n",
        "\n",
        "El modelo tiene un excelente desempeño para identificar a los estudiantes admitidos, pero tiene dificultades para reconocer correctamente a los no admitidos. Esto podría representar un problema si el objetivo es tener un balance entre ambas clasificaciones. En un contexto de admisión universitaria, esta falta de especificidad podría derivar en la aceptación de estudiantes que en realidad no deberían haber sido admitidos."
      ],
      "metadata": {
        "id": "5HslIAv2zBfP"
      }
    }
  ]
}